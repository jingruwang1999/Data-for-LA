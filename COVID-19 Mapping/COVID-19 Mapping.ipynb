{
 "cells": [
  {
   "cell_type": "code",
   "execution_count": 90,
   "metadata": {},
   "outputs": [],
   "source": [
    "import pandas as pd\n",
    "import numpy as np\n",
    "import pickle\n",
    "from cartopy import crs\n",
    "from bokeh.models import ColorBar, ColumnDataSource, HoverTool, Select,  FixedTicker, NumeralTickFormatter, CustomJS\n",
    "import bokeh.palettes\n",
    "from bokeh.transform import linear_cmap\n",
    "from bokeh.tile_providers import get_provider, CARTODBPOSITRON\n",
    "from bokeh.plotting import figure, save\n",
    "from bokeh.io import output_file, show, output_notebook \n",
    "from bokeh.layouts import column"
   ]
  },
  {
   "cell_type": "code",
   "execution_count": 135,
   "metadata": {},
   "outputs": [],
   "source": [
    "file = open(\"gdf_tract.pickle\",'rb')\n",
    "gdf_tract = pickle.load(file)\n",
    "file.close()\n",
    "\n",
    "file = open(\"la_hospital_capacity.pickle\",'rb')\n",
    "la_hospital_capacity = pickle.load(file)\n",
    "file.close()\n",
    "\n",
    "file = open(\"la_tract_income.pickle\",'rb')\n",
    "la_tract_income = pickle.load(file)\n",
    "file.close()"
   ]
  },
  {
   "cell_type": "markdown",
   "metadata": {},
   "source": [
    "fix code below"
   ]
  },
  {
   "cell_type": "code",
   "execution_count": 30,
   "metadata": {},
   "outputs": [],
   "source": [
    "# la_hospital_capacity = la_hospital_capacity.replace(-999999, np.nan)\n",
    "# la_hospital_capacity[\"hospital_name\"] = [name.lower().title() for name in la_hospital_capacity.hospital_name]\n",
    "### needs fixing##########\n",
    "#la_hospital_capacity[\"percent_beds_used\"] = (la_hospital_capacity.total_adult_patients_hospitalized_confirmed_covid_7_day_avg/la_hospital_capacity.total_beds_7_day_avg*100).round(4)\n",
    "# la_hospital_capacity[\"percent_icu_beds_used\"] = (la_hospital_capacity.icu_beds_used_7_day_sum/la_hospital_capacity.total_icu_beds_7_day_sum*100).round(4)"
   ]
  },
  {
   "cell_type": "code",
   "execution_count": 136,
   "metadata": {},
   "outputs": [],
   "source": [
    "def translate(column, percent=False, rightMin=5, rightMax=40):\n",
    "    if percent:\n",
    "        leftMin = 0\n",
    "        leftMax = 100\n",
    "    else:\n",
    "        leftMin, leftMax = min(column), max(column)\n",
    "    leftSpan = leftMax - leftMin\n",
    "    rightSpan = rightMax - rightMin\n",
    "    mapped = []\n",
    "    \n",
    "    mapped = (column - leftMin).astype(\"float\")/float(leftSpan)\n",
    "    mapped = rightMin + mapped*rightSpan\n",
    "\n",
    "    return mapped"
   ]
  },
  {
   "cell_type": "code",
   "execution_count": 137,
   "metadata": {},
   "outputs": [],
   "source": [
    "la_hospital_capacity[\"percent_beds_used_sizes\"] = translate(la_hospital_capacity[\"percent_beds_used\"], True)\n",
    "la_hospital_capacity[\"percent_icu_beds_used_sizes\"] = translate(la_hospital_capacity[\"percent_icu_beds_used\"], True)\n",
    "la_hospital_capacity[\"total_adult_patients_hospitalized_confirmed_and_suspected_covid_7_day_sum_sizes\"] = translate(la_hospital_capacity[\"total_adult_patients_hospitalized_confirmed_and_suspected_covid_7_day_sum\"], False, 10, 50)"
   ]
  },
  {
   "cell_type": "code",
   "execution_count": 138,
   "metadata": {},
   "outputs": [],
   "source": [
    "interest = \"percent_beds_used\"\n",
    "la_hospital_capacity['interest'] = la_hospital_capacity[interest]\n",
    "la_hospital_capacity[\"sizes\"] = la_hospital_capacity[interest+\"_sizes\"]\n",
    "\n",
    "dates = list(la_hospital_capacity.groupby(\"collection_week\").groups.keys())\n",
    "recent_date = sorted(dates)[-1]\n",
    "income = gdf_tract['income']"
   ]
  },
  {
   "cell_type": "markdown",
   "metadata": {},
   "source": [
    "Color codes that represent income"
   ]
  },
  {
   "cell_type": "code",
   "execution_count": 139,
   "metadata": {},
   "outputs": [],
   "source": [
    "blues = ('#BCD2E8', '#91BAD6','#73A5C6','#528AAE','#2E5984','#1E3F66')"
   ]
  },
  {
   "cell_type": "code",
   "execution_count": 141,
   "metadata": {},
   "outputs": [],
   "source": [
    "multicolor = ('green','orange', 'yellow','red')"
   ]
  },
  {
   "cell_type": "code",
   "execution_count": 155,
   "metadata": {},
   "outputs": [],
   "source": [
    "columns = [\"collection_week\", \"interest\", \"x\", \"y\", \"sizes\", \"hospital_name\",\"hospital_subtype\", \n",
    "            \"percent_beds_used\", \"percent_icu_beds_used\",\"percent_beds_used_sizes\", \"percent_icu_beds_used_sizes\",\n",
    "            \"total_adult_patients_hospitalized_confirmed_and_suspected_covid_7_day_sum\",\n",
    "                                   \"total_adult_patients_hospitalized_confirmed_and_suspected_covid_7_day_sum_sizes\"]"
   ]
  },
  {
   "cell_type": "code",
   "execution_count": 159,
   "metadata": {},
   "outputs": [
    {
     "data": {
      "text/plain": [
       "'/Users/lucywang/Desktop/data-for-la/COVID-19 Mapping/covid19map.html'"
      ]
     },
     "execution_count": 159,
     "metadata": {},
     "output_type": "execute_result"
    }
   ],
   "source": [
    "data = {'interest': [interest], \"date\":[recent_date]}\n",
    "isource = ColumnDataSource(data=data)\n",
    "\n",
    "g_df = gdf_tract.drop('geometry', axis=1).copy()\n",
    "gsource = ColumnDataSource(g_df)\n",
    "colormapper = linear_cmap(field_name='income', palette=blues, low=min(income)-191, high=max(income)) #income mapping\n",
    "\n",
    "#initializing\n",
    "p = figure(title=\"Map\", plot_width=1100, plot_height=1000)\n",
    "p.xaxis.visible = False\n",
    "p.yaxis.visible = False\n",
    "chosentile = get_provider(CARTODBPOSITRON)\n",
    "p.add_tile(chosentile)\n",
    "\n",
    "\n",
    "#patches###\n",
    "p.patches('x', 'y', source=gsource, color=colormapper, fill_alpha=1.0, line_color=\"white\", line_width=0.1)\n",
    "###color bar########\n",
    "n_ticks = 7\n",
    "formatter = NumeralTickFormatter(format=\"$0,0\")\n",
    "ticks = np.linspace(min(income)-191, max(income), n_ticks).round(-1)  # round to desired precision \n",
    "color_ticks = FixedTicker(ticks=ticks)\n",
    "color_bar = ColorBar(color_mapper=colormapper['transform'], width=10,  location=(0,0), ticker=color_ticks, name=\"Median Income\")\n",
    "color_bar.formatter = formatter\n",
    "p.add_layout(color_bar, 'right')\n",
    "\n",
    "###scatter plot##\n",
    "\n",
    "interest = \"percent_beds_used\" #initialize variable of interest\n",
    "p_df = la_hospital_capacity.loc[:, columns]\n",
    "selection = p_df[p_df['collection_week'] == recent_date]\n",
    "\n",
    "psource = ColumnDataSource(data=p_df)\n",
    "curr=ColumnDataSource(data=selection)\n",
    "\n",
    "callback = CustomJS(args=dict(source=psource, sc=curr, isource=isource), code=\"\"\"\n",
    "    var f = cb_obj.value\n",
    "    sc.data['interest']=[]\n",
    "    sc.data['sizes']=[]\n",
    "    \n",
    "    isource.data[\"date\"] = []\n",
    "    isource.data[\"date\"].push(f)\n",
    "    \n",
    "    var interest = isource.data[\"interest\"][0]\n",
    "    var sizes = interest + \"_sizes\"\n",
    "    \n",
    "    for(var i = 0; i <= source.get_length(); i++){\n",
    "        if (source.data['collection_week'][i] == f){\n",
    "        sc.data['interest'].push(source.data[interest][i])\n",
    "        sc.data['sizes'].push(source.data[sizes][i])\n",
    "        }\n",
    "    }   \n",
    "    \n",
    "    isource.change.emit()\n",
    "    sc.change.emit();\n",
    "\"\"\")\n",
    "\n",
    "callback_capacity = CustomJS(args=dict(source=psource, sc=curr, isource=isource), code=\"\"\"\n",
    "    var f = cb_obj.value\n",
    "    var dict = {\n",
    "      \"% Beds occupied for covid patients\": \"percent_beds_used\",\n",
    "      \"% ICU occupied used for covid patients\": \"percent_icu_beds_used\",\n",
    "      \"Gross Number of Adult Patients\":\"total_adult_patients_hospitalized_confirmed_and_suspected_covid_7_day_sum\"}\n",
    "    \n",
    "    var column = dict[f]\n",
    "    var col_size = column + \"_sizes\"\n",
    "    var date = isource.data[\"date\"][0]\n",
    "    \n",
    "    isource.data[\"interest\"] = [column]\n",
    "    \n",
    "    source.data['interest'] = source.data[column]\n",
    "    source.data['sizes'] = source.data[col_size]\n",
    "    \n",
    "    sc.data['interest']=[]\n",
    "    sc.data['sizes']=[]\n",
    "    \n",
    "    for(var i = 0; i <= source.get_length(); i++){\n",
    "        if (source.data['collection_week'][i] == date){\n",
    "        sc.data['interest'].push(source.data[column][i])\n",
    "        sc.data['sizes'].push(source.data[col_size][i])\n",
    "        }\n",
    "    }   \n",
    "    \n",
    "\n",
    "    source.change.emit()\n",
    "    isource.change.emit()\n",
    "    sc.change.emit();\n",
    "\"\"\")\n",
    "\n",
    "\n",
    "multimapper = linear_cmap(field_name='interest', palette=multicolor, low=0, high=100)\n",
    "p.circle(x=\"x\", y=\"y\", color=\"red\", alpha=0.5, name=\"points\", source=curr, size=\"sizes\")\n",
    "\n",
    "hover = HoverTool(names=[\"points\"])\n",
    "hover.tooltips = [('Hospital', '@hospital_name'), ('Hospital Type', '@hospital_subtype'), ('Metric of Interest', '@interest{0.2f}')]\n",
    "p.add_tools(hover)\n",
    "\n",
    "menu_capacity = Select(options=[\"% Beds occupied for covid patients\", \"% ICU occupied used for covid patients\",\n",
    "                \"Gross Number of Adult Patients\"], value=\"% Beds occupied for covid patients\", title='Capacity')\n",
    "menu_capacity.js_on_change('value', callback_capacity)\n",
    "\n",
    "menu = Select(options=dates, value=recent_date, title='Week of Data Collection')\n",
    "menu.js_on_change('value', callback) # calling the function on change of selection\n",
    "\n",
    "\n",
    "\n",
    "layout=column(menu, menu_capacity, p) \n",
    "\n",
    "show(layout) #uncomment to show plot\n",
    "\n",
    "outfp = r\"covid19map.html\"\n",
    "save(layout, outfp)"
   ]
  },
  {
   "cell_type": "code",
   "execution_count": 15,
   "metadata": {},
   "outputs": [],
   "source": [
    "variables = [\"collection_week\", \"interest\", \"x\", \"y\", \"sizes\", \n",
    "                                    \"hospital_name\",\"hospital_subtype\", \n",
    "                                    \"percent_beds_used\", \"percent_icu_beds_used\",\n",
    "                                   \"percent_beds_used_sizes\", \"percent_icu_beds_used_sizes\",\n",
    "                                   \"total_adult_patients_hospitalized_confirmed_and_suspected_covid_7_day_sum\",\n",
    "                                   \"total_adult_patients_hospitalized_confirmed_and_suspected_covid_7_day_sum_sizes\"]"
   ]
  },
  {
   "cell_type": "code",
   "execution_count": 20,
   "metadata": {},
   "outputs": [
    {
     "data": {
      "text/html": [
       "<div>\n",
       "<style scoped>\n",
       "    .dataframe tbody tr th:only-of-type {\n",
       "        vertical-align: middle;\n",
       "    }\n",
       "\n",
       "    .dataframe tbody tr th {\n",
       "        vertical-align: top;\n",
       "    }\n",
       "\n",
       "    .dataframe thead th {\n",
       "        text-align: right;\n",
       "    }\n",
       "</style>\n",
       "<table border=\"1\" class=\"dataframe\">\n",
       "  <thead>\n",
       "    <tr style=\"text-align: right;\">\n",
       "      <th></th>\n",
       "      <th>collection_week</th>\n",
       "      <th>interest</th>\n",
       "      <th>x</th>\n",
       "      <th>y</th>\n",
       "      <th>sizes</th>\n",
       "      <th>hospital_name</th>\n",
       "      <th>hospital_subtype</th>\n",
       "      <th>percent_beds_used</th>\n",
       "      <th>percent_icu_beds_used</th>\n",
       "      <th>percent_beds_used_sizes</th>\n",
       "      <th>percent_icu_beds_used_sizes</th>\n",
       "      <th>total_adult_patients_hospitalized_confirmed_and_suspected_covid_7_day_sum</th>\n",
       "      <th>total_adult_patients_hospitalized_confirmed_and_suspected_covid_7_day_sum_sizes</th>\n",
       "    </tr>\n",
       "  </thead>\n",
       "  <tbody>\n",
       "    <tr>\n",
       "      <th>506</th>\n",
       "      <td>2020-12-25</td>\n",
       "      <td>63.1959</td>\n",
       "      <td>-1.315346e+07</td>\n",
       "      <td>4.121391e+06</td>\n",
       "      <td>27.118565</td>\n",
       "      <td>Antelope Valley Hospital</td>\n",
       "      <td>Short Term</td>\n",
       "      <td>63.1959</td>\n",
       "      <td>84.2342</td>\n",
       "      <td>27.118565</td>\n",
       "      <td>34.48197</td>\n",
       "      <td>930.0</td>\n",
       "      <td>29.892086</td>\n",
       "    </tr>\n",
       "  </tbody>\n",
       "</table>\n",
       "</div>"
      ],
      "text/plain": [
       "    collection_week  interest             x             y      sizes  \\\n",
       "506      2020-12-25   63.1959 -1.315346e+07  4.121391e+06  27.118565   \n",
       "\n",
       "                hospital_name hospital_subtype  percent_beds_used  \\\n",
       "506  Antelope Valley Hospital       Short Term            63.1959   \n",
       "\n",
       "     percent_icu_beds_used  percent_beds_used_sizes  \\\n",
       "506                84.2342                27.118565   \n",
       "\n",
       "     percent_icu_beds_used_sizes  \\\n",
       "506                     34.48197   \n",
       "\n",
       "     total_adult_patients_hospitalized_confirmed_and_suspected_covid_7_day_sum  \\\n",
       "506                                              930.0                           \n",
       "\n",
       "     total_adult_patients_hospitalized_confirmed_and_suspected_covid_7_day_sum_sizes  \n",
       "506                                          29.892086                                "
      ]
     },
     "execution_count": 20,
     "metadata": {},
     "output_type": "execute_result"
    }
   ],
   "source": [
    "la_hospital_capacity[variables][(la_hospital_capacity.collection_week==\"2020-12-25\") & (la_hospital_capacity.hospital_name == \"Antelope Valley Hospital\")]"
   ]
  }
 ],
 "metadata": {
  "kernelspec": {
   "display_name": "Python 3",
   "language": "python",
   "name": "python3"
  },
  "language_info": {
   "codemirror_mode": {
    "name": "ipython",
    "version": 3
   },
   "file_extension": ".py",
   "mimetype": "text/x-python",
   "name": "python",
   "nbconvert_exporter": "python",
   "pygments_lexer": "ipython3",
   "version": "3.8.5"
  }
 },
 "nbformat": 4,
 "nbformat_minor": 2
}
